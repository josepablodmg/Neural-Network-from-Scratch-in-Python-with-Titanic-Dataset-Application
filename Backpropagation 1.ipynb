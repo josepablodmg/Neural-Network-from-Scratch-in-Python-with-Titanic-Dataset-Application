{
 "cells": [
  {
   "cell_type": "markdown",
   "id": "fec7f256",
   "metadata": {},
   "source": [
    "### Load standard packages"
   ]
  },
  {
   "cell_type": "code",
   "execution_count": 1,
   "id": "eb7b3f2b",
   "metadata": {},
   "outputs": [],
   "source": [
    "import numpy as np   # for matrix multiplication \n",
    "import matplotlib.pyplot as plt # for plotting\n",
    "import random       # for random number generation\n"
   ]
  },
  {
   "cell_type": "markdown",
   "id": "7e999c76",
   "metadata": {},
   "source": [
    "Defining the sigmoid activation function"
   ]
  },
  {
   "cell_type": "code",
   "execution_count": 2,
   "id": "9b67d729",
   "metadata": {},
   "outputs": [],
   "source": [
    "# sigmoid activation function\n",
    "def sigmoid(t):\n",
    "    return 1/(1+np.exp(-t))"
   ]
  },
  {
   "cell_type": "code",
   "execution_count": 3,
   "id": "685be76b",
   "metadata": {},
   "outputs": [
    {
     "data": {
      "text/plain": [
       "[<matplotlib.lines.Line2D at 0x11c273790>]"
      ]
     },
     "execution_count": 3,
     "metadata": {},
     "output_type": "execute_result"
    },
    {
     "data": {
      "image/png": "[encoded data removed]",
      "text/plain": [
       "<Figure size 432x288 with 1 Axes>"
      ]
     },
     "metadata": {
      "needs_background": "light"
     },
     "output_type": "display_data"
    }
   ],
   "source": [
    "# test\n",
    "t = np.arange(-8,8, 0.2)\n",
    "plt.plot(t, sigmoid(t))"
   ]
  },
  {
   "cell_type": "markdown",
   "id": "2fd97bbc",
   "metadata": {},
   "source": [
    "Defining the derivative of the sigmoid function"
   ]
  },
  {
   "cell_type": "code",
   "execution_count": 4,
   "id": "8eca7825",
   "metadata": {},
   "outputs": [],
   "source": [
    "def sigmoid_prime(z):\n",
    "    \"\"\"Derivative of the sigmoid function.\"\"\"\n",
    "    return sigmoid(z)*(1-sigmoid(z))"
   ]
  },
  {
   "cell_type": "markdown",
   "id": "f3fc9f0a",
   "metadata": {},
   "source": [
    "Plotting both the function and the derivative in the same chart"
   ]
  },
  {
   "cell_type": "code",
   "execution_count": 5,
   "id": "b803936a",
   "metadata": {},
   "outputs": [
    {
     "data": {
      "text/plain": [
       "[<matplotlib.lines.Line2D at 0x11c37a400>,\n",
       " <matplotlib.lines.Line2D at 0x11c37a460>]"
      ]
     },
     "execution_count": 5,
     "metadata": {},
     "output_type": "execute_result"
    },
    {
     "data": {
      "image/png": "[encoded data removed]",
      "text/plain": [
       "<Figure size 432x288 with 1 Axes>"
      ]
     },
     "metadata": {
      "needs_background": "light"
     },
     "output_type": "display_data"
    }
   ],
   "source": [
    "plt.plot(t, sigmoid(t), t,sigmoid_prime(t))"
   ]
  },
  {
   "cell_type": "markdown",
   "id": "feefcab5",
   "metadata": {},
   "source": [
    "## A [4,3,2] network\n",
    "\n",
    "Example of a list of weights (layer 1 from 4->3 nodes, and layer 2 from 3-> 2 nodes)"
   ]
  },
  {
   "cell_type": "code",
   "execution_count": 6,
   "id": "d5cb8823",
   "metadata": {},
   "outputs": [
    {
     "name": "stdout",
     "output_type": "stream",
     "text": [
      "[[ 0.1  0.2  0.3  0.4]\n",
      " [ 0.3 -0.2 -0.3 -0.1]\n",
      " [ 0.1  0.5 -1.  -0.2]]\n",
      "[[0.5 0.5 0.2]\n",
      " [0.6 0.9 0.1]]\n"
     ]
    }
   ],
   "source": [
    "# Two layers \n",
    "# first from layer 0 with k = column = 0,1,2,3 to layer 1 with j = row = 0, 1, 2\n",
    "W1 = np.array([[ 0.1, 0.2, 0.3, 0.4 ],[.3, -.2, -.3, -.1],[0.1,0.5,-1,-.2]])\n",
    "print(W1)\n",
    "# then from layer 1 with k = column = 0, 1, 2 to layer 2 with k = 0, 1\n",
    "W2 = np.array([[0.5, 0.5, 0.2],[0.6, 0.9, 0.1]])\n",
    "print(W2)"
   ]
  },
  {
   "cell_type": "markdown",
   "id": "5f1daf7f",
   "metadata": {},
   "source": [
    "The biases. The first bias adds to the layer with 3 nodes, the second to the output layer with 2 nodes"
   ]
  },
  {
   "cell_type": "code",
   "execution_count": 7,
   "id": "66e33521",
   "metadata": {},
   "outputs": [],
   "source": [
    "b1 = np.array([-0.5,0.5,0.5]).reshape(3,1)\n",
    "b2 = np.array([-0.5,+0.5]).reshape(2,1)"
   ]
  },
  {
   "cell_type": "markdown",
   "id": "c9ff7ac8",
   "metadata": {},
   "source": [
    "Forward pass of input x = (3,-2,1,0)^T. Result in output a2"
   ]
  },
  {
   "cell_type": "code",
   "execution_count": 8,
   "id": "10df8e99",
   "metadata": {},
   "outputs": [
    {
     "name": "stdout",
     "output_type": "stream",
     "text": [
      "x:   [[ 3]\n",
      " [-2]\n",
      " [ 1]\n",
      " [ 0]]\n",
      "a1   [[0.42555748]\n",
      " [0.81757448]\n",
      " [0.23147522]]\n",
      "a2   [[0.54186699]\n",
      " [0.81969745]]\n"
     ]
    }
   ],
   "source": [
    "#forward pass of x = np.array([3,-2,1,0]).T\n",
    "x = np.array([3,-2,1,0]).reshape(4,1)\n",
    "print(\"x:  \", x)\n",
    "# \n",
    "#  W1 @ x + b1 -> f(W1 @ x)\n",
    "a1 = sigmoid(W1 @ x + b1)\n",
    "\n",
    "print(\"a1  \", a1)\n",
    "# a1 -> W2 @ a1 + b2 -> f\n",
    "# through the activation function\n",
    "# a2 = f (W2 @ a1 + b2)\n",
    "a2 = sigmoid (W2 @ a1 + b2)\n",
    "\n",
    "print(\"a2  \", a2)"
   ]
  },
  {
   "cell_type": "markdown",
   "id": "b588e014",
   "metadata": {},
   "source": [
    "Creating a list of the weights:"
   ]
  },
  {
   "cell_type": "code",
   "execution_count": 9,
   "id": "86a9c2fa",
   "metadata": {},
   "outputs": [
    {
     "data": {
      "text/plain": [
       "[array([[ 0.1,  0.2,  0.3,  0.4],\n",
       "        [ 0.3, -0.2, -0.3, -0.1],\n",
       "        [ 0.1,  0.5, -1. , -0.2]]),\n",
       " array([[0.5, 0.5, 0.2],\n",
       "        [0.6, 0.9, 0.1]])]"
      ]
     },
     "execution_count": 9,
     "metadata": {},
     "output_type": "execute_result"
    }
   ],
   "source": [
    "Weight = [W1,W2]\n",
    "Weight"
   ]
  },
  {
   "cell_type": "markdown",
   "id": "607328ab",
   "metadata": {},
   "source": [
    "and the bias"
   ]
  },
  {
   "cell_type": "code",
   "execution_count": 10,
   "id": "1eaf68e7",
   "metadata": {},
   "outputs": [
    {
     "data": {
      "text/plain": [
       "[array([[-0.5],\n",
       "        [ 0.5],\n",
       "        [ 0.5]]),\n",
       " array([[-0.5],\n",
       "        [ 0.5]])]"
      ]
     },
     "execution_count": 10,
     "metadata": {},
     "output_type": "execute_result"
    }
   ],
   "source": [
    "bias = [b1, b2]\n",
    "bias"
   ]
  },
  {
   "cell_type": "markdown",
   "id": "073809ef",
   "metadata": {},
   "source": [
    "Loop to each pair of (W,b). \n",
    "\n",
    "Here we have two layers l = {1,2}\n",
    "\n",
    "In this case in step 1: w,b = W1, b1, \n",
    "then in step 2 w, b = W2, b2\n",
    "\n",
    "zip(Weight, bias) = [ (W1, b1), (W2, b2) ]\n",
    "\n",
    "Here is how it works:"
   ]
  },
  {
   "cell_type": "code",
   "execution_count": 11,
   "id": "f3c14d67",
   "metadata": {},
   "outputs": [
    {
     "name": "stdout",
     "output_type": "stream",
     "text": [
      "Weight \n",
      " [[ 0.1  0.2  0.3  0.4]\n",
      " [ 0.3 -0.2 -0.3 -0.1]\n",
      " [ 0.1  0.5 -1.  -0.2]]\n",
      "bias \n",
      " [[-0.5]\n",
      " [ 0.5]\n",
      " [ 0.5]]\n",
      "Weight \n",
      " [[0.5 0.5 0.2]\n",
      " [0.6 0.9 0.1]]\n",
      "bias \n",
      " [[-0.5]\n",
      " [ 0.5]]\n"
     ]
    }
   ],
   "source": [
    "for w, b in zip(Weight, bias):\n",
    "    print(\"Weight \\n\", w)\n",
    "    print(\"bias \\n\", b)"
   ]
  },
  {
   "cell_type": "markdown",
   "id": "e41c60df",
   "metadata": {},
   "source": [
    "Apply this to feeding x throught the network"
   ]
  },
  {
   "cell_type": "code",
   "execution_count": 12,
   "id": "04195e75",
   "metadata": {},
   "outputs": [
    {
     "name": "stdout",
     "output_type": "stream",
     "text": [
      "z : [[-0.3]\n",
      " [ 1.5]\n",
      " [-1.2]]\n",
      "a : [[0.42555748]\n",
      " [0.81757448]\n",
      " [0.23147522]]\n",
      "z : [[0.16786102]\n",
      " [1.51429904]]\n",
      "a : [[0.54186699]\n",
      " [0.81969745]]\n"
     ]
    }
   ],
   "source": [
    "a = x # first input is x\n",
    "for w, b in zip(Weight, bias):\n",
    "    z = w @ a + b\n",
    "    print(\"z :\", z)\n",
    "    a = sigmoid(z)\n",
    "    print(\"a :\", a)"
   ]
  },
  {
   "cell_type": "markdown",
   "id": "d9004dd6",
   "metadata": {},
   "source": [
    "Writing a function that does this automatically"
   ]
  },
  {
   "cell_type": "code",
   "execution_count": 13,
   "id": "c60def3e",
   "metadata": {},
   "outputs": [],
   "source": [
    "def forward_pass(Weight, bias, x):\n",
    "    for w, b in zip(Weight, bias):\n",
    "        x = sigmoid(w @ x + b)\n",
    "    return (x)"
   ]
  },
  {
   "cell_type": "code",
   "execution_count": 14,
   "id": "55c9420b",
   "metadata": {},
   "outputs": [
    {
     "data": {
      "text/plain": [
       "array([[0.54186699],\n",
       "       [0.81969745]])"
      ]
     },
     "execution_count": 14,
     "metadata": {},
     "output_type": "execute_result"
    }
   ],
   "source": [
    "out = forward_pass(Weight, bias, x)\n",
    "out"
   ]
  },
  {
   "cell_type": "markdown",
   "id": "097beb48",
   "metadata": {},
   "source": [
    "The neural network's output is assumed to be the index of whichever\n",
    "neuron in the final layer has the highest activation, here, since:"
   ]
  },
  {
   "cell_type": "code",
   "execution_count": 15,
   "id": "dbdf5fd2",
   "metadata": {},
   "outputs": [
    {
     "data": {
      "text/plain": [
       "0.8196974506771258"
      ]
     },
     "execution_count": 15,
     "metadata": {},
     "output_type": "execute_result"
    }
   ],
   "source": [
    "np.max(out)"
   ]
  },
  {
   "cell_type": "markdown",
   "id": "67e7cef7",
   "metadata": {},
   "source": [
    "it must be the latter index (index 1)"
   ]
  },
  {
   "cell_type": "code",
   "execution_count": 16,
   "id": "07de087b",
   "metadata": {},
   "outputs": [
    {
     "data": {
      "text/plain": [
       "1"
      ]
     },
     "execution_count": 16,
     "metadata": {},
     "output_type": "execute_result"
    }
   ],
   "source": [
    "np.argmax(out)"
   ]
  },
  {
   "cell_type": "markdown",
   "id": "18bff219",
   "metadata": {},
   "source": [
    "### Two data points\n",
    "\n",
    "Here we create to data points X = [ x1, x2 ] of inputs"
   ]
  },
  {
   "cell_type": "code",
   "execution_count": 17,
   "id": "9ad94fdc",
   "metadata": {},
   "outputs": [],
   "source": [
    "X = [x, np.array([1,0,0,1]).reshape(4,1)]"
   ]
  },
  {
   "cell_type": "code",
   "execution_count": 18,
   "id": "12ba103d",
   "metadata": {},
   "outputs": [
    {
     "data": {
      "text/plain": [
       "[array([[ 3],\n",
       "        [-2],\n",
       "        [ 1],\n",
       "        [ 0]]),\n",
       " array([[1],\n",
       "        [0],\n",
       "        [0],\n",
       "        [1]])]"
      ]
     },
     "execution_count": 18,
     "metadata": {},
     "output_type": "execute_result"
    }
   ],
   "source": [
    "X"
   ]
  },
  {
   "cell_type": "markdown",
   "id": "db8a475a",
   "metadata": {},
   "source": [
    "With the given Weights and biases we would have the predictions"
   ]
  },
  {
   "cell_type": "code",
   "execution_count": 19,
   "id": "bd70dd23",
   "metadata": {},
   "outputs": [
    {
     "data": {
      "text/plain": [
       "array([[[0.54186699],\n",
       "        [0.81969745]],\n",
       "\n",
       "       [[0.55078215],\n",
       "        [0.81172191]]])"
      ]
     },
     "execution_count": 19,
     "metadata": {},
     "output_type": "execute_result"
    }
   ],
   "source": [
    "y_preds = np.array([forward_pass(Weight, bias, x) for x in X])\n",
    "y_preds"
   ]
  },
  {
   "cell_type": "markdown",
   "id": "2c43ec95",
   "metadata": {},
   "source": [
    "Suppose the targets were the following two column vectors"
   ]
  },
  {
   "cell_type": "code",
   "execution_count": 20,
   "id": "e2d63dd4",
   "metadata": {},
   "outputs": [
    {
     "data": {
      "text/plain": [
       "array([[[0],\n",
       "        [1]],\n",
       "\n",
       "       [[1],\n",
       "        [0]]])"
      ]
     },
     "execution_count": 20,
     "metadata": {},
     "output_type": "execute_result"
    }
   ],
   "source": [
    "y_target = np.array([ np.array([0,1]).reshape(2,1), np.array([1,0]).reshape(2,1)])\n",
    "y_target"
   ]
  },
  {
   "cell_type": "markdown",
   "id": "1fbc5a58",
   "metadata": {},
   "source": [
    "How well would we do?"
   ]
  },
  {
   "cell_type": "code",
   "execution_count": 21,
   "id": "35631aa7",
   "metadata": {},
   "outputs": [
    {
     "data": {
      "text/plain": [
       "[True, False]"
      ]
     },
     "execution_count": 21,
     "metadata": {},
     "output_type": "execute_result"
    }
   ],
   "source": [
    "[np.argmax(a) == np.argmax(b) for a,b in zip(y_preds, y_target)]"
   ]
  },
  {
   "cell_type": "markdown",
   "id": "3519c69d",
   "metadata": {},
   "source": [
    "The fist would be a correct prediction, the second faulty"
   ]
  },
  {
   "cell_type": "code",
   "execution_count": 22,
   "id": "7bd30ba2",
   "metadata": {},
   "outputs": [],
   "source": [
    "def evaluate(y_preds, y_target):\n",
    "    # calculate the number of correct guesses in y_preds compared to the \n",
    "    # targets in y_target.\n",
    "    num = sum([np.argmax(a) == np.argmax(b) for a,b in zip(y_preds, y_target)])\n",
    "    return (num) "
   ]
  },
  {
   "cell_type": "code",
   "execution_count": 23,
   "id": "b5ee96a5",
   "metadata": {},
   "outputs": [
    {
     "data": {
      "text/plain": [
       "1"
      ]
     },
     "execution_count": 23,
     "metadata": {},
     "output_type": "execute_result"
    }
   ],
   "source": [
    "evaluate(y_preds, y_target)"
   ]
  },
  {
   "cell_type": "markdown",
   "id": "3edd345d",
   "metadata": {},
   "source": [
    "= one correct prediction"
   ]
  },
  {
   "cell_type": "markdown",
   "id": "ea28193e",
   "metadata": {},
   "source": [
    "### Backpropagation to improve the weights\n",
    "\n",
    "Let us do backpropagation to find better weights in the layers"
   ]
  },
  {
   "cell_type": "markdown",
   "id": "bdfed625",
   "metadata": {},
   "source": [
    "This first create a list of zero-biases with the same dimensions as in our network, then\n",
    " create a list of zero-weight with the same dimensions as our network (given by the list Weight)"
   ]
  },
  {
   "cell_type": "code",
   "execution_count": 24,
   "id": "8db5425f",
   "metadata": {},
   "outputs": [],
   "source": [
    "nabla_b = [np.zeros(len(b)) for b in bias]\n",
    "nabla_w = [np.zeros_like(w) for w in Weight]"
   ]
  },
  {
   "cell_type": "code",
   "execution_count": 25,
   "id": "38b2649c",
   "metadata": {},
   "outputs": [
    {
     "data": {
      "text/plain": [
       "[array([0., 0., 0.]), array([0., 0.])]"
      ]
     },
     "execution_count": 25,
     "metadata": {},
     "output_type": "execute_result"
    }
   ],
   "source": [
    "nabla_b"
   ]
  },
  {
   "cell_type": "code",
   "execution_count": 26,
   "id": "6413b629",
   "metadata": {},
   "outputs": [
    {
     "data": {
      "text/plain": [
       "[array([[0., 0., 0., 0.],\n",
       "        [0., 0., 0., 0.],\n",
       "        [0., 0., 0., 0.]]),\n",
       " array([[0., 0., 0.],\n",
       "        [0., 0., 0.]])]"
      ]
     },
     "execution_count": 26,
     "metadata": {},
     "output_type": "execute_result"
    }
   ],
   "source": [
    "nabla_w"
   ]
  },
  {
   "cell_type": "markdown",
   "id": "b719def6",
   "metadata": {},
   "source": [
    "When we run the network forwards, we must store all the activations **a** and the net activations **z** for each layer"
   ]
  },
  {
   "cell_type": "code",
   "execution_count": 27,
   "id": "35523408",
   "metadata": {},
   "outputs": [
    {
     "name": "stdout",
     "output_type": "stream",
     "text": [
      "[array([[ 3],\n",
      "       [-2],\n",
      "       [ 1],\n",
      "       [ 0]]), array([[0.42555748],\n",
      "       [0.81757448],\n",
      "       [0.23147522]]), array([[0.54186699],\n",
      "       [0.81969745]])]\n",
      "[array([[-0.3],\n",
      "       [ 1.5],\n",
      "       [-1.2]]), array([[0.16786102],\n",
      "       [1.51429904]])]\n"
     ]
    }
   ],
   "source": [
    "# feedforward\n",
    "act = x # the first activation is the inputs x\n",
    "act_list = [x] # store all activations layer-by-layer\n",
    "zs = [] # list to store all the z vectors, layer by layer\n",
    "# loop throught all layers\n",
    "for w, b in zip(Weight, bias):\n",
    "    z = (w @ act + b)\n",
    "    zs.append(z)\n",
    "    act = sigmoid(z)\n",
    "    act_list.append(act)\n",
    "\n",
    "print(act_list)\n",
    "print(zs)"
   ]
  },
  {
   "cell_type": "markdown",
   "id": "d123383f",
   "metadata": {},
   "source": [
    "Remember that in python we can access the last element by [ -1 ]"
   ]
  },
  {
   "cell_type": "code",
   "execution_count": 28,
   "id": "2cd93031",
   "metadata": {},
   "outputs": [
    {
     "data": {
      "text/plain": [
       "array([[0.54186699],\n",
       "       [0.81969745]])"
      ]
     },
     "execution_count": 28,
     "metadata": {},
     "output_type": "execute_result"
    }
   ],
   "source": [
    "act_list[-1]"
   ]
  },
  {
   "cell_type": "code",
   "execution_count": 29,
   "id": "73b940af",
   "metadata": {},
   "outputs": [],
   "source": [
    "y_target = np.array([0,1]).reshape(2,1)"
   ]
  },
  {
   "cell_type": "code",
   "execution_count": 30,
   "id": "532d5aae",
   "metadata": {},
   "outputs": [
    {
     "data": {
      "text/plain": [
       "array([[0],\n",
       "       [1]])"
      ]
     },
     "execution_count": 30,
     "metadata": {},
     "output_type": "execute_result"
    }
   ],
   "source": [
    "y_target"
   ]
  },
  {
   "cell_type": "code",
   "execution_count": 31,
   "id": "c6370dbe",
   "metadata": {},
   "outputs": [
    {
     "data": {
      "text/plain": [
       "array([[ 0.54186699],\n",
       "       [-0.18030255]])"
      ]
     },
     "execution_count": 31,
     "metadata": {},
     "output_type": "execute_result"
    }
   ],
   "source": [
    "act_list[-1] - y_target"
   ]
  },
  {
   "cell_type": "code",
   "execution_count": 32,
   "id": "0b205482",
   "metadata": {},
   "outputs": [
    {
     "data": {
      "text/plain": [
       "array([[0.16786102],\n",
       "       [1.51429904]])"
      ]
     },
     "execution_count": 32,
     "metadata": {},
     "output_type": "execute_result"
    }
   ],
   "source": [
    "zs[-1]"
   ]
  },
  {
   "cell_type": "code",
   "execution_count": 33,
   "id": "1f020e7e",
   "metadata": {},
   "outputs": [
    {
     "data": {
      "text/plain": [
       "array([[0.24824715],\n",
       "       [0.14779354]])"
      ]
     },
     "execution_count": 33,
     "metadata": {},
     "output_type": "execute_result"
    }
   ],
   "source": [
    "sigmoid_prime(zs[-1])"
   ]
  },
  {
   "cell_type": "code",
   "execution_count": 34,
   "id": "78b12a27",
   "metadata": {},
   "outputs": [
    {
     "data": {
      "text/plain": [
       "array([[ 0.54186699],\n",
       "       [-0.18030255]])"
      ]
     },
     "execution_count": 34,
     "metadata": {},
     "output_type": "execute_result"
    }
   ],
   "source": [
    "(act_list[-1] - y_target)"
   ]
  },
  {
   "cell_type": "markdown",
   "id": "6e1b4ee7",
   "metadata": {},
   "source": [
    "The deviance/error delta in the last layer is "
   ]
  },
  {
   "cell_type": "code",
   "execution_count": 35,
   "id": "e14056d2",
   "metadata": {},
   "outputs": [
    {
     "data": {
      "text/plain": [
       "array([[ 0.13451694],\n",
       "       [-0.02664755]])"
      ]
     },
     "execution_count": 35,
     "metadata": {},
     "output_type": "execute_result"
    }
   ],
   "source": [
    "delta = sigmoid_prime(zs[-1]) * (act_list[-1] - y_target)\n",
    "delta"
   ]
  },
  {
   "cell_type": "markdown",
   "id": "adbff84b",
   "metadata": {},
   "source": [
    "Calculate the gradient of the cost with respect to the the bias in the last layer based on the rules in the slides"
   ]
  },
  {
   "cell_type": "code",
   "execution_count": 36,
   "id": "eaf677a7",
   "metadata": {},
   "outputs": [
    {
     "data": {
      "text/plain": [
       "[array([0., 0., 0.]),\n",
       " array([[ 0.13451694],\n",
       "        [-0.02664755]])]"
      ]
     },
     "execution_count": 36,
     "metadata": {},
     "output_type": "execute_result"
    }
   ],
   "source": [
    "nabla_b[-1] = delta\n",
    "nabla_b"
   ]
  },
  {
   "cell_type": "code",
   "execution_count": 37,
   "id": "b1348c15",
   "metadata": {},
   "outputs": [
    {
     "data": {
      "text/plain": [
       "array([[0.42555748, 0.81757448, 0.23147522]])"
      ]
     },
     "execution_count": 37,
     "metadata": {},
     "output_type": "execute_result"
    }
   ],
   "source": [
    "act_list[-2].transpose()"
   ]
  },
  {
   "cell_type": "markdown",
   "id": "1020b917",
   "metadata": {},
   "source": [
    "calculate the gradient of the cost with respect to the the weight in the last layer based on the formula in the slides:"
   ]
  },
  {
   "cell_type": "code",
   "execution_count": 38,
   "id": "6c4eb016",
   "metadata": {},
   "outputs": [
    {
     "data": {
      "text/plain": [
       "array([[ 0.05724469,  0.10997762,  0.03113734],\n",
       "       [-0.01134007, -0.02178636, -0.00616825]])"
      ]
     },
     "execution_count": 38,
     "metadata": {},
     "output_type": "execute_result"
    }
   ],
   "source": [
    "nabla_w[-1] = np.dot(delta, act_list[-2].transpose())\n",
    "nabla_w[-1]"
   ]
  },
  {
   "cell_type": "markdown",
   "id": "42ec2e1f",
   "metadata": {},
   "source": [
    "Backpropagate the error/deviance delta throught the network to the start (here only one layer more... so the loop is not neceessary). Note that range(2,3) = {2}. So here l = 2. Here we use the formulas from the slides to calculate delta and the gradients of Cost with respect to W and b:"
   ]
  },
  {
   "cell_type": "code",
   "execution_count": 39,
   "id": "d1dd0862",
   "metadata": {},
   "outputs": [],
   "source": [
    "for l in range(2, 3):\n",
    "    z = zs[-l]\n",
    "    sp = sigmoid_prime(z)\n",
    "    delta = np.dot(Weight[-l+1].transpose(), delta) * sp\n",
    "    nabla_b[-l] = delta\n",
    "    nabla_w[-l] = np.dot(delta, act_list[-l-1].transpose())"
   ]
  },
  {
   "cell_type": "code",
   "execution_count": 40,
   "id": "d7445def",
   "metadata": {},
   "outputs": [
    {
     "data": {
      "text/plain": [
       "[array([[0.01253336],\n",
       "        [0.00645441],\n",
       "        [0.00431192]]),\n",
       " array([[ 0.13451694],\n",
       "        [-0.02664755]])]"
      ]
     },
     "execution_count": 40,
     "metadata": {},
     "output_type": "execute_result"
    }
   ],
   "source": [
    "nabla_b"
   ]
  },
  {
   "cell_type": "code",
   "execution_count": 41,
   "id": "7ca7fe9d",
   "metadata": {},
   "outputs": [
    {
     "data": {
      "text/plain": [
       "[array([[ 0.03760009, -0.02506673,  0.01253336,  0.        ],\n",
       "        [ 0.01936324, -0.01290883,  0.00645441,  0.        ],\n",
       "        [ 0.01293575, -0.00862384,  0.00431192,  0.        ]]),\n",
       " array([[ 0.05724469,  0.10997762,  0.03113734],\n",
       "        [-0.01134007, -0.02178636, -0.00616825]])]"
      ]
     },
     "execution_count": 41,
     "metadata": {},
     "output_type": "execute_result"
    }
   ],
   "source": [
    "nabla_w"
   ]
  },
  {
   "cell_type": "markdown",
   "id": "9b411037",
   "metadata": {},
   "source": [
    "Update weights based on training example:"
   ]
  },
  {
   "cell_type": "code",
   "execution_count": 42,
   "id": "c8db072a",
   "metadata": {},
   "outputs": [],
   "source": [
    "eta = 0.1 # learning rate"
   ]
  },
  {
   "cell_type": "code",
   "execution_count": 43,
   "id": "b5a7c550",
   "metadata": {},
   "outputs": [
    {
     "data": {
      "text/plain": [
       "[array([[ 0.09623999,  0.20250667,  0.29874666,  0.4       ],\n",
       "        [ 0.29806368, -0.19870912, -0.30064544, -0.1       ],\n",
       "        [ 0.09870642,  0.50086238, -1.00043119, -0.2       ]]),\n",
       " array([[0.49427553, 0.48900224, 0.19688627],\n",
       "        [0.60113401, 0.90217864, 0.10061682]])]"
      ]
     },
     "execution_count": 43,
     "metadata": {},
     "output_type": "execute_result"
    }
   ],
   "source": [
    "New_Weights = [w-eta*nw for w, nw in zip(Weight, nabla_w)]\n",
    "New_Weights"
   ]
  },
  {
   "cell_type": "markdown",
   "id": "03011219",
   "metadata": {},
   "source": [
    "update bias based on training example"
   ]
  },
  {
   "cell_type": "code",
   "execution_count": 44,
   "id": "51a7509d",
   "metadata": {},
   "outputs": [
    {
     "data": {
      "text/plain": [
       "[array([[-0.50125334],\n",
       "        [ 0.49935456],\n",
       "        [ 0.49956881]]),\n",
       " array([[-0.51345169],\n",
       "        [ 0.50266476]])]"
      ]
     },
     "execution_count": 44,
     "metadata": {},
     "output_type": "execute_result"
    }
   ],
   "source": [
    "new_bias = [b-eta*nb for b, nb in zip(bias, nabla_b)]\n",
    "new_bias"
   ]
  },
  {
   "cell_type": "markdown",
   "id": "731c69b5",
   "metadata": {},
   "source": [
    "Feed-forward the example x with this new weights and biases:"
   ]
  },
  {
   "cell_type": "code",
   "execution_count": 45,
   "id": "73820a12",
   "metadata": {},
   "outputs": [
    {
     "data": {
      "text/plain": [
       "array([[0.53470864],\n",
       "       [0.81982899]])"
      ]
     },
     "execution_count": 45,
     "metadata": {},
     "output_type": "execute_result"
    }
   ],
   "source": [
    "out_new = forward_pass(New_Weights, new_bias, x)\n",
    "out_new"
   ]
  },
  {
   "cell_type": "markdown",
   "id": "ca37f133",
   "metadata": {},
   "source": [
    "To compare with the original weights"
   ]
  },
  {
   "cell_type": "code",
   "execution_count": 46,
   "id": "96542a36",
   "metadata": {},
   "outputs": [
    {
     "data": {
      "text/plain": [
       "array([[0.54186699],\n",
       "       [0.81969745]])"
      ]
     },
     "execution_count": 46,
     "metadata": {},
     "output_type": "execute_result"
    }
   ],
   "source": [
    "out"
   ]
  },
  {
   "cell_type": "markdown",
   "id": "76fc3553",
   "metadata": {},
   "source": [
    "With this small learning-rate there is not much difference. Also since one of the nodes is almost saturated (0.81982899) it updates slowly anyhow!"
   ]
  },
  {
   "cell_type": "markdown",
   "id": "cfb17f56",
   "metadata": {},
   "source": [
    "## Applying the code to the titanic dataset\n",
    "\n",
    "First import the pandas package, and do a bit of cleaning:"
   ]
  },
  {
   "cell_type": "code",
   "execution_count": 47,
   "id": "a86dff84",
   "metadata": {},
   "outputs": [],
   "source": [
    "import pandas as pd"
   ]
  },
  {
   "cell_type": "code",
   "execution_count": 48,
   "id": "90bc1624",
   "metadata": {},
   "outputs": [
    {
     "data": {
      "text/html": [
       "<div>\n",
       "<style scoped>\n",
       "    .dataframe tbody tr th:only-of-type {\n",
       "        vertical-align: middle;\n",
       "    }\n",
       "\n",
       "    .dataframe tbody tr th {\n",
       "        vertical-align: top;\n",
       "    }\n",
       "\n",
       "    .dataframe thead th {\n",
       "        text-align: right;\n",
       "    }\n",
       "</style>\n",
       "<table border=\"1\" class=\"dataframe\">\n",
       "  <thead>\n",
       "    <tr style=\"text-align: right;\">\n",
       "      <th></th>\n",
       "      <th>pclass</th>\n",
       "      <th>survived</th>\n",
       "      <th>name</th>\n",
       "      <th>sex</th>\n",
       "      <th>age</th>\n",
       "      <th>sibsp</th>\n",
       "      <th>parch</th>\n",
       "      <th>ticket</th>\n",
       "      <th>fare</th>\n",
       "      <th>cabin</th>\n",
       "      <th>embarked</th>\n",
       "      <th>boat</th>\n",
       "      <th>body</th>\n",
       "      <th>home.dest</th>\n",
       "    </tr>\n",
       "  </thead>\n",
       "  <tbody>\n",
       "    <tr>\n",
       "      <th>0</th>\n",
       "      <td>1</td>\n",
       "      <td>1</td>\n",
       "      <td>Allen, Miss. Elisabeth Walton</td>\n",
       "      <td>female</td>\n",
       "      <td>29.00</td>\n",
       "      <td>0</td>\n",
       "      <td>0</td>\n",
       "      <td>24160</td>\n",
       "      <td>211.3375</td>\n",
       "      <td>B5</td>\n",
       "      <td>S</td>\n",
       "      <td>2</td>\n",
       "      <td>NaN</td>\n",
       "      <td>St Louis, MO</td>\n",
       "    </tr>\n",
       "    <tr>\n",
       "      <th>1</th>\n",
       "      <td>1</td>\n",
       "      <td>1</td>\n",
       "      <td>Allison, Master. Hudson Trevor</td>\n",
       "      <td>male</td>\n",
       "      <td>0.92</td>\n",
       "      <td>1</td>\n",
       "      <td>2</td>\n",
       "      <td>113781</td>\n",
       "      <td>151.5500</td>\n",
       "      <td>C22 C26</td>\n",
       "      <td>S</td>\n",
       "      <td>11</td>\n",
       "      <td>NaN</td>\n",
       "      <td>Montreal, PQ / Chesterville, ON</td>\n",
       "    </tr>\n",
       "    <tr>\n",
       "      <th>2</th>\n",
       "      <td>1</td>\n",
       "      <td>0</td>\n",
       "      <td>Allison, Miss. Helen Loraine</td>\n",
       "      <td>female</td>\n",
       "      <td>2.00</td>\n",
       "      <td>1</td>\n",
       "      <td>2</td>\n",
       "      <td>113781</td>\n",
       "      <td>151.5500</td>\n",
       "      <td>C22 C26</td>\n",
       "      <td>S</td>\n",
       "      <td>NaN</td>\n",
       "      <td>NaN</td>\n",
       "      <td>Montreal, PQ / Chesterville, ON</td>\n",
       "    </tr>\n",
       "  </tbody>\n",
       "</table>\n",
       "</div>"
      ],
      "text/plain": [
       "   pclass  survived                            name     sex    age  sibsp  \\\n",
       "0       1         1   Allen, Miss. Elisabeth Walton  female  29.00      0   \n",
       "1       1         1  Allison, Master. Hudson Trevor    male   0.92      1   \n",
       "2       1         0    Allison, Miss. Helen Loraine  female   2.00      1   \n",
       "\n",
       "   parch  ticket      fare    cabin embarked boat  body  \\\n",
       "0      0   24160  211.3375       B5        S    2   NaN   \n",
       "1      2  113781  151.5500  C22 C26        S   11   NaN   \n",
       "2      2  113781  151.5500  C22 C26        S  NaN   NaN   \n",
       "\n",
       "                         home.dest  \n",
       "0                     St Louis, MO  \n",
       "1  Montreal, PQ / Chesterville, ON  \n",
       "2  Montreal, PQ / Chesterville, ON  "
      ]
     },
     "execution_count": 48,
     "metadata": {},
     "output_type": "execute_result"
    }
   ],
   "source": [
    "titanic = pd.read_csv(\"../Data/Titanic Dataset.csv\")\n",
    "titanic.head(3)"
   ]
  },
  {
   "cell_type": "code",
   "execution_count": 49,
   "id": "22305b22",
   "metadata": {},
   "outputs": [],
   "source": [
    "titanic = titanic[['survived','pclass', 'sex','age','sibsp']].dropna() # drop rows with missing values"
   ]
  },
  {
   "cell_type": "markdown",
   "id": "d44583d7",
   "metadata": {},
   "source": [
    "Create a dummy variable for sex"
   ]
  },
  {
   "cell_type": "code",
   "execution_count": 50,
   "id": "ea584507",
   "metadata": {},
   "outputs": [
    {
     "data": {
      "text/html": [
       "<div>\n",
       "<style scoped>\n",
       "    .dataframe tbody tr th:only-of-type {\n",
       "        vertical-align: middle;\n",
       "    }\n",
       "\n",
       "    .dataframe tbody tr th {\n",
       "        vertical-align: top;\n",
       "    }\n",
       "\n",
       "    .dataframe thead th {\n",
       "        text-align: right;\n",
       "    }\n",
       "</style>\n",
       "<table border=\"1\" class=\"dataframe\">\n",
       "  <thead>\n",
       "    <tr style=\"text-align: right;\">\n",
       "      <th></th>\n",
       "      <th>female</th>\n",
       "      <th>male</th>\n",
       "    </tr>\n",
       "  </thead>\n",
       "  <tbody>\n",
       "    <tr>\n",
       "      <th>0</th>\n",
       "      <td>1</td>\n",
       "      <td>0</td>\n",
       "    </tr>\n",
       "    <tr>\n",
       "      <th>1</th>\n",
       "      <td>0</td>\n",
       "      <td>1</td>\n",
       "    </tr>\n",
       "    <tr>\n",
       "      <th>2</th>\n",
       "      <td>1</td>\n",
       "      <td>0</td>\n",
       "    </tr>\n",
       "    <tr>\n",
       "      <th>3</th>\n",
       "      <td>0</td>\n",
       "      <td>1</td>\n",
       "    </tr>\n",
       "    <tr>\n",
       "      <th>4</th>\n",
       "      <td>1</td>\n",
       "      <td>0</td>\n",
       "    </tr>\n",
       "    <tr>\n",
       "      <th>5</th>\n",
       "      <td>0</td>\n",
       "      <td>1</td>\n",
       "    </tr>\n",
       "  </tbody>\n",
       "</table>\n",
       "</div>"
      ],
      "text/plain": [
       "   female  male\n",
       "0       1     0\n",
       "1       0     1\n",
       "2       1     0\n",
       "3       0     1\n",
       "4       1     0\n",
       "5       0     1"
      ]
     },
     "execution_count": 50,
     "metadata": {},
     "output_type": "execute_result"
    }
   ],
   "source": [
    "dummies = pd.get_dummies(titanic['sex']).applymap(int) \n",
    "dummies.head(6) # checking that it works"
   ]
  },
  {
   "cell_type": "code",
   "execution_count": 51,
   "id": "4ed8c38d",
   "metadata": {},
   "outputs": [],
   "source": [
    "titanic = pd.concat([titanic, dummies.female], axis=1)\n",
    "features = ['pclass', 'female','age','sibsp']\n",
    "target = 'survived'\n",
    "Y = titanic[target].to_numpy(dtype = float )"
   ]
  },
  {
   "cell_type": "code",
   "execution_count": 52,
   "id": "e354aa4a",
   "metadata": {},
   "outputs": [],
   "source": [
    "X = titanic[features].to_numpy()"
   ]
  },
  {
   "cell_type": "code",
   "execution_count": 53,
   "id": "184cbefc",
   "metadata": {},
   "outputs": [
    {
     "data": {
      "text/plain": [
       "array([[ 1.  ,  1.  , 29.  ,  0.  ],\n",
       "       [ 1.  ,  0.  ,  0.92,  1.  ],\n",
       "       [ 1.  ,  1.  ,  2.  ,  1.  ],\n",
       "       ...,\n",
       "       [ 3.  ,  0.  , 26.5 ,  0.  ],\n",
       "       [ 3.  ,  0.  , 27.  ,  0.  ],\n",
       "       [ 3.  ,  0.  , 29.  ,  0.  ]])"
      ]
     },
     "execution_count": 53,
     "metadata": {},
     "output_type": "execute_result"
    }
   ],
   "source": [
    "X"
   ]
  },
  {
   "cell_type": "code",
   "execution_count": 54,
   "id": "6d1c47e0",
   "metadata": {},
   "outputs": [
    {
     "data": {
      "text/plain": [
       "array([1., 1., 0.])"
      ]
     },
     "execution_count": 54,
     "metadata": {},
     "output_type": "execute_result"
    }
   ],
   "source": [
    "Y[0:3]"
   ]
  },
  {
   "cell_type": "code",
   "execution_count": 55,
   "id": "b9adac30",
   "metadata": {},
   "outputs": [],
   "source": [
    "def vectorized_result(j):\n",
    "    \"\"\"Return a 2-dimensional unit vector with a 1.0 in the jth\n",
    "    position and zeroes elsewhere.  This is used to convert survival 0/1 into a \n",
    "    corresponding desired output from the neural\n",
    "    network. 0 -> [1,0] and 1 -> [0,1]\"\"\"\n",
    "    e = np.zeros((2, 1))\n",
    "    e[int(j)] = 1.0\n",
    "    return e"
   ]
  },
  {
   "cell_type": "code",
   "execution_count": 56,
   "id": "030c9e59",
   "metadata": {},
   "outputs": [],
   "source": [
    "training_results = [vectorized_result(y) for y in Y]"
   ]
  },
  {
   "cell_type": "code",
   "execution_count": 57,
   "id": "9243fb14",
   "metadata": {},
   "outputs": [
    {
     "data": {
      "text/plain": [
       "[array([[0.],\n",
       "        [1.]]),\n",
       " array([[0.],\n",
       "        [1.]]),\n",
       " array([[1.],\n",
       "        [0.]])]"
      ]
     },
     "execution_count": 57,
     "metadata": {},
     "output_type": "execute_result"
    }
   ],
   "source": [
    "training_results[0:3]"
   ]
  },
  {
   "cell_type": "markdown",
   "id": "09530821",
   "metadata": {},
   "source": [
    "Normalize the values so that they are all on the same scale, I suggest to use z-scores as values, see homework 3 for details."
   ]
  },
  {
   "cell_type": "code",
   "execution_count": 58,
   "id": "82a19f6b",
   "metadata": {},
   "outputs": [],
   "source": [
    "def normalise(X):\n",
    "    k = X.shape[0]\n",
    "    X_mean = np.mean(X, axis = 0)\n",
    "    X_std = np.std(X, axis =0, ddof=1) # bessels correction (not necessary but whatever)\n",
    "    X = (X-X_mean)/X_std # normalise to z-scores\n",
    "    return X, X_mean, X_std"
   ]
  },
  {
   "cell_type": "code",
   "execution_count": 59,
   "id": "17a4e85b",
   "metadata": {},
   "outputs": [
    {
     "data": {
      "text/plain": [
       "array([[-1.43489222,  1.30163551, -0.06113283, -0.5512893 ],\n",
       "       [-1.43489222, -0.76752975, -2.00930734,  0.54500083],\n",
       "       [-1.43489222,  1.30163551, -1.93437755,  0.54500083]])"
      ]
     },
     "execution_count": 59,
     "metadata": {},
     "output_type": "execute_result"
    }
   ],
   "source": [
    "X, X_mean, X_std =  normalise(X)\n",
    "X[0:3]"
   ]
  },
  {
   "cell_type": "code",
   "execution_count": 60,
   "id": "410b8f3c",
   "metadata": {},
   "outputs": [
    {
     "data": {
      "text/plain": [
       "array([[-1.43489222],\n",
       "       [ 1.30163551],\n",
       "       [-0.06113283],\n",
       "       [-0.5512893 ]])"
      ]
     },
     "execution_count": 60,
     "metadata": {},
     "output_type": "execute_result"
    }
   ],
   "source": [
    "training_inputs = [np.reshape(x, (4, 1)) for x in X]\n",
    "training_inputs[0]"
   ]
  },
  {
   "cell_type": "code",
   "execution_count": 61,
   "id": "bd7cb6f4",
   "metadata": {},
   "outputs": [],
   "source": [
    "rng = np.random.default_rng()      # initiate random\n",
    "ix_example = np.arange(len(Y))     # array [0,1,...,N]\n",
    "rng.shuffle(ix_example)            # shuffle all_cols"
   ]
  },
  {
   "cell_type": "code",
   "execution_count": 62,
   "id": "237d3fea",
   "metadata": {},
   "outputs": [],
   "source": [
    "# Size of layers\n",
    "layers = [4,5,2] #input layer, hidden layer(s), output layer\n",
    "#initiate weights\n",
    "num_layers = len(layers)"
   ]
  },
  {
   "cell_type": "markdown",
   "id": "d806bd44",
   "metadata": {},
   "source": [
    "For demostration purpose: **Make sure you understand how this piece of code work:** "
   ]
  },
  {
   "cell_type": "code",
   "execution_count": 63,
   "id": "260b0205",
   "metadata": {},
   "outputs": [
    {
     "name": "stdout",
     "output_type": "stream",
     "text": [
      "5 4\n",
      "2 5\n"
     ]
    }
   ],
   "source": [
    "for i, j in zip(layers,layers[1:]):\n",
    "    print(j,i)\n"
   ]
  },
  {
   "cell_type": "markdown",
   "id": "fc2a0fba",
   "metadata": {},
   "source": [
    "Initiate some random weights and biases using .randn. Make sure you check what kind of values np.random.randn generates! "
   ]
  },
  {
   "cell_type": "code",
   "execution_count": 64,
   "id": "198dfa49",
   "metadata": {},
   "outputs": [],
   "source": [
    "bias = []\n",
    "Weight = []\n",
    "for i, j in zip(layers,layers[1:]):\n",
    "    bias.append(np.random.randn(j,1)) # a random bias with j rows and 1 col\n",
    "    Weight.append(np.random.randn(j,i))"
   ]
  },
  {
   "cell_type": "code",
   "execution_count": 65,
   "id": "1d31291e",
   "metadata": {},
   "outputs": [
    {
     "data": {
      "text/plain": [
       "[array([[-2.21874275],\n",
       "        [ 1.31394857],\n",
       "        [ 0.48691615],\n",
       "        [-1.29881651],\n",
       "        [-0.24178878]]),\n",
       " array([[0.01266011],\n",
       "        [0.83707934]])]"
      ]
     },
     "execution_count": 65,
     "metadata": {},
     "output_type": "execute_result"
    }
   ],
   "source": [
    "bias"
   ]
  },
  {
   "cell_type": "code",
   "execution_count": 66,
   "id": "154a3396",
   "metadata": {},
   "outputs": [
    {
     "data": {
      "text/plain": [
       "[array([[ 2.17695015,  0.53122333,  0.10878174, -1.24236341],\n",
       "        [ 0.73097458, -1.87232922, -0.0818983 ,  1.72388319],\n",
       "        [-0.73726713,  1.2375418 , -1.2837694 ,  0.38993813],\n",
       "        [ 0.29370843, -0.31783093,  1.26685047, -1.3241593 ],\n",
       "        [ 1.13340408,  0.31752677, -0.92158164,  0.50759796]]),\n",
       " array([[ 1.10337915, -0.60709061, -0.66917493, -1.93468763, -0.24541597],\n",
       "        [-0.45742584, -0.04299985, -0.86493717, -1.20979741, -0.35155997]])]"
      ]
     },
     "execution_count": 66,
     "metadata": {},
     "output_type": "execute_result"
    }
   ],
   "source": [
    "Weight"
   ]
  },
  {
   "cell_type": "code",
   "execution_count": 67,
   "id": "55a2346b",
   "metadata": {},
   "outputs": [],
   "source": [
    "def backpropagation(bias, Weight, num_layers, x, y):\n",
    "    nabla_b = [np.zeros(len(b)) for b in bias]\n",
    "    nabla_w = [np.zeros_like(w) for w in Weight]\n",
    "    # feedforward\n",
    "    act = x\n",
    "    act_list = [x] # store all activations layer-by-layer\n",
    "    zs = [] # list to store all the z vectors, layer by layer\n",
    "    for w, b in zip(Weight, bias):\n",
    "        z = (w @ act + b)\n",
    "        zs.append(z)\n",
    "        act = sigmoid(z)\n",
    "        act_list.append(act)\n",
    "    # backward pass:\n",
    "    delta = sigmoid_prime(zs[-1]) * (act_list[-1] - y)\n",
    "    nabla_b[-1] = delta\n",
    "    nabla_w[-1] = np.dot(delta, act_list[-2].transpose())\n",
    "    for l in range(2, num_layers):\n",
    "        z = zs[-l]\n",
    "        sp = sigmoid_prime(z)\n",
    "        delta = np.dot(Weight[-l+1].transpose(), delta) * sp\n",
    "        nabla_b[-l] = delta\n",
    "        nabla_w[-l] = np.dot(delta, act_list[-l-1].transpose())\n",
    "    return (nabla_b, nabla_w)\n",
    "    "
   ]
  },
  {
   "cell_type": "code",
   "execution_count": 68,
   "id": "46eda3ea",
   "metadata": {},
   "outputs": [],
   "source": [
    "# running a single epoch consisting of all training examples\n",
    "\n",
    "# initiating bias and weighs\n",
    "bias = []\n",
    "Weight = []\n",
    "for i, j in zip(layers,layers[1:]):\n",
    "    bias.append(np.random.randn(j,1)) # a random bias with j rows and 1 col\n",
    "    Weight.append(np.random.randn(j,i)) # a random Weight matrix with j rows and i cols\n",
    "\n",
    "cost = []\n",
    "eta = 0.1 # learn rate\n",
    "for i in ix_example:\n",
    "    x = training_inputs[i]\n",
    "    y = training_results[i]\n",
    "\n",
    "    # feedforward\n",
    "    act = x\n",
    "    act_list = [x] # store all activations layer-by-layer\n",
    "    zs = [] # list to store all the z vectors, layer by layer\n",
    "    for w, b in zip(Weight, bias):\n",
    "        z = np.dot(w,act) + b\n",
    "        zs.append(z)\n",
    "        act = sigmoid(z)\n",
    "        act_list.append(act)\n",
    "\n",
    "    # get the gradients nabla_b and nabla_w for each layer based on the training example\n",
    "    nabla_b, nabla_w = backpropagation(bias, Weight, num_layers, x, y)\n",
    "    # update weights based on training example\n",
    "    # update weights \n",
    "    Weight = [w-eta*nw for w, nw in zip(Weight, nabla_w)]\n",
    "    # update biases\n",
    "    bias = [b-eta*nb for b, nb in zip(bias, nabla_b)]"
   ]
  },
  {
   "cell_type": "code",
   "execution_count": 69,
   "id": "5d6d8cdf",
   "metadata": {},
   "outputs": [
    {
     "data": {
      "text/plain": [
       "[array([[0.26001213],\n",
       "        [0.79334722]]),\n",
       " array([[0.69985499],\n",
       "        [0.25257603]]),\n",
       " array([[0.28881272],\n",
       "        [0.75714996]])]"
      ]
     },
     "execution_count": 69,
     "metadata": {},
     "output_type": "execute_result"
    }
   ],
   "source": [
    "# all predictions:\n",
    "y_preds = [forward_pass(Weight, bias, x) for x in training_inputs]\n",
    "y_preds[0:3]"
   ]
  },
  {
   "cell_type": "code",
   "execution_count": 70,
   "id": "3c421970",
   "metadata": {},
   "outputs": [
    {
     "data": {
      "text/plain": [
       "0.7868068833652008"
      ]
     },
     "execution_count": 70,
     "metadata": {},
     "output_type": "execute_result"
    }
   ],
   "source": [
    "correct_prop = evaluate(y_preds, training_results)/len(training_results)\n",
    "correct_prop"
   ]
  },
  {
   "cell_type": "code",
   "execution_count": 71,
   "id": "b12d51ad",
   "metadata": {},
   "outputs": [],
   "source": [
    "# slightly better than chance after a single pass."
   ]
  },
  {
   "cell_type": "code",
   "execution_count": 72,
   "id": "edba6827",
   "metadata": {},
   "outputs": [],
   "source": [
    "# base line guess"
   ]
  },
  {
   "cell_type": "code",
   "execution_count": 73,
   "id": "31099e30",
   "metadata": {},
   "outputs": [
    {
     "data": {
      "text/plain": [
       "0.5917782026768643"
      ]
     },
     "execution_count": 73,
     "metadata": {},
     "output_type": "execute_result"
    }
   ],
   "source": [
    "1-sum(Y)/len(Y)"
   ]
  }
 ],
 "metadata": {
  "kernelspec": {
   "display_name": "Python 3 (ipykernel)",
   "language": "python",
   "name": "python3"
  },
  "language_info": {
   "codemirror_mode": {
    "name": "ipython",
    "version": 3
   },
   "file_extension": ".py",
   "mimetype": "text/x-python",
   "name": "python",
   "nbconvert_exporter": "python",
   "pygments_lexer": "ipython3",
   "version": "3.11.5"
  }
 },
 "nbformat": 4,
 "nbformat_minor": 5
}
